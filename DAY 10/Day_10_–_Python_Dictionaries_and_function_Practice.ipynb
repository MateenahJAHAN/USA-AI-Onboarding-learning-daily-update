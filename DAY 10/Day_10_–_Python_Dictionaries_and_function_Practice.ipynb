{
  "nbformat": 4,
  "nbformat_minor": 0,
  "metadata": {
    "colab": {
      "provenance": []
    },
    "kernelspec": {
      "name": "python3",
      "display_name": "Python 3"
    },
    "language_info": {
      "name": "python"
    }
  },
  "cells": [
    {
      "cell_type": "code",
      "execution_count": null,
      "metadata": {
        "id": "Gk6v5W8CjhS2"
      },
      "outputs": [],
      "source": []
    },
    {
      "cell_type": "code",
      "source": [
        "student = {\n",
        "    \"name\": \"Mateenah\",\n",
        "    \"age\": 25,\n",
        "    \"course\": \"Python\"\n",
        "}\n",
        "print(student)"
      ],
      "metadata": {
        "colab": {
          "base_uri": "https://localhost:8080/"
        },
        "id": "mKZCjlV8jnsd",
        "outputId": "79445e41-8dc7-4a6d-8730-df3762948538"
      },
      "execution_count": 1,
      "outputs": [
        {
          "output_type": "stream",
          "name": "stdout",
          "text": [
            "{'name': 'Mateenah', 'age': 25, 'course': 'Python'}\n"
          ]
        }
      ]
    },
    {
      "cell_type": "code",
      "source": [
        "print(\"Name:\", student[\"name\"])\n",
        "print(\"Course:\", student.get(\"course\"))"
      ],
      "metadata": {
        "colab": {
          "base_uri": "https://localhost:8080/"
        },
        "id": "EA4swFwhjz3F",
        "outputId": "b3fe7f27-e1ce-4d9a-943e-3eba68ff92d0"
      },
      "execution_count": 2,
      "outputs": [
        {
          "output_type": "stream",
          "name": "stdout",
          "text": [
            "Name: Mateenah\n",
            "Course: Python\n"
          ]
        }
      ]
    },
    {
      "cell_type": "code",
      "source": [
        "student[\"city\"] = \"Kupwara\"\n",
        "student[\"age\"] = 25\n",
        "\n",
        "\n",
        "if \"course\" in student:\n",
        "    del student[\"course\"]\n",
        "\n",
        "print(\"Updated student info:\", student)"
      ],
      "metadata": {
        "colab": {
          "base_uri": "https://localhost:8080/"
        },
        "id": "6hv0kHZwkvai",
        "outputId": "22816ac0-e30e-4a59-95d4-f3c5630a0060"
      },
      "execution_count": 9,
      "outputs": [
        {
          "output_type": "stream",
          "name": "stdout",
          "text": [
            "Updated student info: {'name': 'Mateenah', 'age': 25, 'city': 'Kupwara'}\n"
          ]
        }
      ]
    },
    {
      "cell_type": "code",
      "source": [
        "\n",
        "for key, value in student.items():\n",
        "    print(f\"{key} → {value}\")\n"
      ],
      "metadata": {
        "colab": {
          "base_uri": "https://localhost:8080/"
        },
        "id": "BK46Zn5Yk2dk",
        "outputId": "568ee7fc-816d-4263-96b8-765cb5f7e287"
      },
      "execution_count": 10,
      "outputs": [
        {
          "output_type": "stream",
          "name": "stdout",
          "text": [
            "name → Mateenah\n",
            "age → 25\n",
            "city → Kupwara\n"
          ]
        }
      ]
    },
    {
      "cell_type": "code",
      "source": [
        "print(\"Keys:\", student.keys())\n",
        "print(\"Values:\", student.values())\n",
        "print(\"Items:\", student.items())\n"
      ],
      "metadata": {
        "colab": {
          "base_uri": "https://localhost:8080/"
        },
        "id": "BorfZ0oCk8db",
        "outputId": "2953703a-2041-47b0-de63-d89fcb75c001"
      },
      "execution_count": 11,
      "outputs": [
        {
          "output_type": "stream",
          "name": "stdout",
          "text": [
            "Keys: dict_keys(['name', 'age', 'city'])\n",
            "Values: dict_values(['Mateenah', 25, 'Kupwara'])\n",
            "Items: dict_items([('name', 'Mateenah'), ('age', 25), ('city', 'Kupwara')])\n"
          ]
        }
      ]
    },
    {
      "cell_type": "code",
      "source": [
        "print(\"Keys:\", student.keys())\n",
        "print(\"Values:\", student.values())\n",
        "print(\"Items:\", student.items())\n",
        "\n",
        "\n",
        "student.update({\"email\": \"mateenah@example.com\", \"age\": 26})\n",
        "print(\"After update:\", student)\n",
        "\n",
        "\n",
        "print(\"Popped:\", student.pop(\"course\", \"Not found\"))\n",
        "print(\"After pop:\", student)\n"
      ],
      "metadata": {
        "colab": {
          "base_uri": "https://localhost:8080/"
        },
        "id": "6dCy2cmMk_i0",
        "outputId": "d1c6cb93-1b2b-45e8-ee19-7a3be1e2af99"
      },
      "execution_count": 12,
      "outputs": [
        {
          "output_type": "stream",
          "name": "stdout",
          "text": [
            "Keys: dict_keys(['name', 'age', 'city'])\n",
            "Values: dict_values(['Mateenah', 25, 'Kupwara'])\n",
            "Items: dict_items([('name', 'Mateenah'), ('age', 25), ('city', 'Kupwara')])\n",
            "After update: {'name': 'Mateenah', 'age': 26, 'city': 'Kupwara', 'email': 'mateenah@example.com'}\n",
            "Popped: Not found\n",
            "After pop: {'name': 'Mateenah', 'age': 26, 'city': 'Kupwara', 'email': 'mateenah@example.com'}\n"
          ]
        }
      ]
    },
    {
      "cell_type": "code",
      "source": [
        "school = {\n",
        "    \"classA\": {\"name\": \"Ali\", \"score\": 92},\n",
        "    \"classB\": {\"name\": \"Zara\", \"score\": 88}\n",
        "}\n",
        "\n",
        "\n",
        "print(\"Class B student:\", school[\"classB\"][\"name\"])\n"
      ],
      "metadata": {
        "colab": {
          "base_uri": "https://localhost:8080/"
        },
        "id": "WYNNw9vFlY7S",
        "outputId": "cf8b09f1-f130-4ef4-d94d-262da055b900"
      },
      "execution_count": 13,
      "outputs": [
        {
          "output_type": "stream",
          "name": "stdout",
          "text": [
            "Class B student: Zara\n"
          ]
        }
      ]
    },
    {
      "cell_type": "code",
      "source": [
        "# Squares of numbers from 1 to 5\n",
        "squares = {x: x**2 for x in range(1, 6)}\n",
        "print(\"Squares:\", squares)\n",
        "\n",
        "# Filter even squares\n",
        "even_squares = {x: x**2 for x in range(1, 11) if x % 2 == 0}\n",
        "print(\"Even Squares:\", even_squares)\n"
      ],
      "metadata": {
        "colab": {
          "base_uri": "https://localhost:8080/"
        },
        "id": "PWIDMB45leBE",
        "outputId": "72e3bd9d-3338-4d98-f6fc-6afc34bc65ed"
      },
      "execution_count": 14,
      "outputs": [
        {
          "output_type": "stream",
          "name": "stdout",
          "text": [
            "Squares: {1: 1, 2: 4, 3: 9, 4: 16, 5: 25}\n",
            "Even Squares: {2: 4, 4: 16, 6: 36, 8: 64, 10: 100}\n"
          ]
        }
      ]
    },
    {
      "cell_type": "code",
      "source": [
        "weather = {\n",
        "    \"location\": {\n",
        "        \"city\": \"Srinagar\",\n",
        "        \"lat\": 34.0837,\n",
        "        \"lon\": 74.7973\n",
        "    },\n",
        "    \"temperature\": {\n",
        "        \"current\": 21.5,\n",
        "        \"unit\": \"Celsius\"\n",
        "    },\n",
        "    \"condition\": \"clear sky\"\n",
        "}\n",
        "\n",
        "print(\"City:\", weather[\"location\"][\"city\"])\n",
        "print(\"Current Temperature:\", weather[\"temperature\"][\"current\"])\n"
      ],
      "metadata": {
        "colab": {
          "base_uri": "https://localhost:8080/"
        },
        "id": "4flcNPCxllLJ",
        "outputId": "9d8b66da-c53d-4a58-cd33-21e5d6ec4f05"
      },
      "execution_count": 15,
      "outputs": [
        {
          "output_type": "stream",
          "name": "stdout",
          "text": [
            "City: Srinagar\n",
            "Current Temperature: 21.5\n"
          ]
        }
      ]
    },
    {
      "cell_type": "code",
      "source": [
        "book = {\n",
        "    \"title\": \"Learning APIs\",\n",
        "    \"author\": {\n",
        "        \"first_name\": \"Mateenah\",\n",
        "        \"last_name\": \"Jahan\"\n",
        "    },\n",
        "    \"year\": 2024\n",
        "}\n",
        "print(book)"
      ],
      "metadata": {
        "colab": {
          "base_uri": "https://localhost:8080/"
        },
        "id": "YEVQTTbOlrbZ",
        "outputId": "8586daf3-a2cb-4fe6-8251-319fa4ae6105"
      },
      "execution_count": 45,
      "outputs": [
        {
          "output_type": "stream",
          "name": "stdout",
          "text": [
            "{'title': 'Learning APIs', 'author': {'first_name': 'Mateenah', 'last_name': 'Jahan'}, 'year': 2024}\n"
          ]
        }
      ]
    },
    {
      "cell_type": "code",
      "source": [
        "result = {\n",
        "    \"name\": \"Ayaan\",\n",
        "    \"marks\": {\n",
        "        \"math\": 78,\n",
        "        \"science\": 82,\n",
        "        \"english\": 88\n",
        "    }\n",
        "}\n",
        "\n",
        "marks = result[\"marks\"]\n",
        "average = (marks[\"math\"] + marks[\"science\"] + marks[\"english\"]) / 3\n",
        "\n",
        "print(\"Average marks:\", average)\n"
      ],
      "metadata": {
        "colab": {
          "base_uri": "https://localhost:8080/"
        },
        "id": "IF_O66EAnAo1",
        "outputId": "05699c7e-3ae4-4a90-b87c-d2f48b50c18b"
      },
      "execution_count": 46,
      "outputs": [
        {
          "output_type": "stream",
          "name": "stdout",
          "text": [
            "Average marks: 82.66666666666667\n"
          ]
        }
      ]
    },
    {
      "cell_type": "code",
      "source": [
        "product = {\n",
        "    \"name\": \"Laptop\",\n",
        "    \"brand\": \"Dell\",\n",
        "    \"price\": 60000,\n",
        "    \"warranty\": \"2 years\"\n",
        "}\n",
        "removed = product.pop(\"warranty\")\n",
        "print(\"Removed:\", removed)\n",
        "print(\"Updated product:\", product)\n"
      ],
      "metadata": {
        "colab": {
          "base_uri": "https://localhost:8080/"
        },
        "id": "-svsAVmGnGhZ",
        "outputId": "ccbe0b8a-1011-416d-97d2-eaf9a3796566"
      },
      "execution_count": 48,
      "outputs": [
        {
          "output_type": "stream",
          "name": "stdout",
          "text": [
            "Removed: 2 years\n",
            "Updated product: {'name': 'Laptop', 'brand': 'Dell', 'price': 60000}\n"
          ]
        }
      ]
    },
    {
      "cell_type": "code",
      "source": [
        "person = {\n",
        "    \"name\": \"Mateenah\",\n",
        "    \"country\": \"India\",\n",
        "    \"language\": \"Python\"\n",
        "}\n",
        "for key, value in person.items():\n",
        "    print(f\"{key} → {value}\")\n"
      ],
      "metadata": {
        "colab": {
          "base_uri": "https://localhost:8080/"
        },
        "id": "e-jHPWj9nsrj",
        "outputId": "230f0eb9-6d65-4d5a-e7a8-3eac06785182"
      },
      "execution_count": 47,
      "outputs": [
        {
          "output_type": "stream",
          "name": "stdout",
          "text": [
            "name → Mateenah\n",
            "country → India\n",
            "language → Python\n"
          ]
        }
      ]
    },
    {
      "cell_type": "code",
      "source": [
        "users = {\n",
        "    \"data\": [\n",
        "        {\"id\": 1, \"name\": \"Ali\"},\n",
        "        {\"id\": 2, \"name\": \"Zara\"},\n",
        "        {\"id\": 3, \"name\": \"Faizan\"}\n",
        "    ]\n",
        "}\n",
        "print(users)"
      ],
      "metadata": {
        "colab": {
          "base_uri": "https://localhost:8080/"
        },
        "id": "XpLlhiBEmM7q",
        "outputId": "49576bdc-c6f3-4583-add4-2b5ad00159d8"
      },
      "execution_count": 43,
      "outputs": [
        {
          "output_type": "stream",
          "name": "stdout",
          "text": [
            "{'data': [{'id': 1, 'name': 'Ali'}, {'id': 2, 'name': 'Zara'}, {'id': 3, 'name': 'Faizan'}]}\n"
          ]
        }
      ]
    },
    {
      "cell_type": "code",
      "source": [
        "result = {\n",
        "    \"name\": \"Ayaan\",\n",
        "    \"marks\": {\n",
        "        \"math\": 78,\n",
        "        \"science\": 82,\n",
        "        \"english\": 88\n",
        "    }\n",
        "}\n",
        "print(result)"
      ],
      "metadata": {
        "colab": {
          "base_uri": "https://localhost:8080/"
        },
        "id": "7LZ9ZvAul959",
        "outputId": "289a873d-80fe-4c19-a497-a6ac8277e446"
      },
      "execution_count": 42,
      "outputs": [
        {
          "output_type": "stream",
          "name": "stdout",
          "text": [
            "{'name': 'Ayaan', 'marks': {'math': 78, 'science': 82, 'english': 88}}\n"
          ]
        }
      ]
    },
    {
      "cell_type": "code",
      "source": [
        "result = {\n",
        "    \"name\": \"Ayaan\",\n",
        "    \"marks\": {\n",
        "        \"math\": 78,\n",
        "        \"science\": 82,\n",
        "        \"english\": 88\n",
        "    }\n",
        "}"
      ],
      "metadata": {
        "id": "YpyMm0DRmxW_"
      },
      "execution_count": 41,
      "outputs": []
    },
    {
      "cell_type": "code",
      "source": [
        "average = 82.6\n",
        "print(\"Average: \" + str(average))\n"
      ],
      "metadata": {
        "colab": {
          "base_uri": "https://localhost:8080/"
        },
        "id": "i6fW5rHgmr8p",
        "outputId": "7d02759b-85e3-47ca-c495-da70cec04c44"
      },
      "execution_count": 38,
      "outputs": [
        {
          "output_type": "stream",
          "name": "stdout",
          "text": [
            "Average: 82.6\n"
          ]
        }
      ]
    },
    {
      "cell_type": "code",
      "source": [
        "average = 82.6\n",
        "print(\"Average:\", average)\n"
      ],
      "metadata": {
        "colab": {
          "base_uri": "https://localhost:8080/"
        },
        "id": "zu0mIwOXmpq1",
        "outputId": "d4fd08e8-56e0-4a2b-e961-67846675e98e"
      },
      "execution_count": 34,
      "outputs": [
        {
          "output_type": "stream",
          "name": "stdout",
          "text": [
            "Average: 82.6\n"
          ]
        }
      ]
    },
    {
      "cell_type": "code",
      "source": [
        "student = {\n",
        "    \"name\": \"Ayaan\",\n",
        "    \"age\": 14\n",
        "}\n",
        "student.update({\"class\": 9, \"section\": \"A\"})\n",
        "print(\"After update:\", student)\n"
      ],
      "metadata": {
        "colab": {
          "base_uri": "https://localhost:8080/"
        },
        "id": "T05WQrUBn28U",
        "outputId": "2fbcca98-2792-45c5-8722-0ad0dcd1c9d3"
      },
      "execution_count": 49,
      "outputs": [
        {
          "output_type": "stream",
          "name": "stdout",
          "text": [
            "After update: {'name': 'Ayaan', 'age': 14, 'class': 9, 'section': 'A'}\n"
          ]
        }
      ]
    },
    {
      "cell_type": "code",
      "source": [
        "user = {\n",
        "    \"id\": 1,\n",
        "    \"profile\": {\n",
        "        \"username\": \"mateenah_j\",\n",
        "        \"location\": \"Srinagar\",\n",
        "        \"skills\": {\n",
        "            \"python\": \"advanced\",\n",
        "            \"sql\": \"intermediate\"\n",
        "        }\n",
        "    }\n",
        "}\n",
        "print(\"Location:\", user[\"profile\"][\"location\"])\n",
        "print(\"Python Skill:\", user[\"profile\"][\"skills\"][\"python\"])\n"
      ],
      "metadata": {
        "colab": {
          "base_uri": "https://localhost:8080/"
        },
        "id": "nOef5MFrn76j",
        "outputId": "a12c9c92-e249-4d2f-bff1-56af98a95743"
      },
      "execution_count": 50,
      "outputs": [
        {
          "output_type": "stream",
          "name": "stdout",
          "text": [
            "Location: Srinagar\n",
            "Python Skill: advanced\n"
          ]
        }
      ]
    },
    {
      "cell_type": "code",
      "source": [
        "weather_data = {\n",
        "    \"coord\": {\"lon\": 74.8, \"lat\": 34.1},\n",
        "    \"main\": {\n",
        "        \"temp\": 21.5,\n",
        "        \"pressure\": 1012,\n",
        "        \"humidity\": 70\n",
        "    },\n",
        "    \"name\": \"Srinagar\"\n",
        "}\n",
        "print(\"City:\", weather_data[\"name\"])\n",
        "print(\"Temperature:\", weather_data[\"main\"][\"temp\"], \"°C\")\n",
        "print(\"Humidity:\", weather_data[\"main\"][\"humidity\"], \"%\")\n"
      ],
      "metadata": {
        "colab": {
          "base_uri": "https://localhost:8080/"
        },
        "id": "IxjaHo86n-7g",
        "outputId": "2a339bb7-c951-44de-d460-2f5740a0092c"
      },
      "execution_count": 51,
      "outputs": [
        {
          "output_type": "stream",
          "name": "stdout",
          "text": [
            "City: Srinagar\n",
            "Temperature: 21.5 °C\n",
            "Humidity: 70 %\n"
          ]
        }
      ]
    },
    {
      "cell_type": "code",
      "source": [
        "def greet():\n",
        "    print(\"Hello, Mateenah!\")\n",
        "\n",
        "greet()\n"
      ],
      "metadata": {
        "colab": {
          "base_uri": "https://localhost:8080/"
        },
        "id": "Rr48BYgRoXrG",
        "outputId": "98337d9f-1bd6-4d90-fecf-93abd0f9cba6"
      },
      "execution_count": 52,
      "outputs": [
        {
          "output_type": "stream",
          "name": "stdout",
          "text": [
            "Hello, Mateenah!\n"
          ]
        }
      ]
    },
    {
      "cell_type": "code",
      "source": [
        "def add_numbers(a, b):\n",
        "    return a + b\n",
        "\n",
        "print(\"Sum:\", add_numbers(4, 6))\n"
      ],
      "metadata": {
        "colab": {
          "base_uri": "https://localhost:8080/"
        },
        "id": "ZvPSO7q9oa4B",
        "outputId": "7102d49b-3b57-4339-d7cf-050804b8ce49"
      },
      "execution_count": 53,
      "outputs": [
        {
          "output_type": "stream",
          "name": "stdout",
          "text": [
            "Sum: 10\n"
          ]
        }
      ]
    },
    {
      "cell_type": "code",
      "source": [
        "def check_even_odd(number):\n",
        "    if number % 2 == 0:\n",
        "        return \"Even\"\n",
        "    else:\n",
        "        return \"Odd\"\n",
        "\n",
        "print(check_even_odd(5))\n",
        "print(check_even_odd(8))\n"
      ],
      "metadata": {
        "colab": {
          "base_uri": "https://localhost:8080/"
        },
        "id": "hxx62HOPofHY",
        "outputId": "1c6455e9-ec01-4c60-a403-08d487d1f1fd"
      },
      "execution_count": 54,
      "outputs": [
        {
          "output_type": "stream",
          "name": "stdout",
          "text": [
            "Odd\n",
            "Even\n"
          ]
        }
      ]
    },
    {
      "cell_type": "code",
      "source": [
        "def welcome(name):\n",
        "    return f\"Welcome, {name}!\"\n",
        "\n",
        "print(welcome(\"Mateenah\"))\n"
      ],
      "metadata": {
        "colab": {
          "base_uri": "https://localhost:8080/"
        },
        "id": "7KucddewoiRu",
        "outputId": "9d28b7bc-d5a3-4b50-ca3a-003067e189b4"
      },
      "execution_count": 55,
      "outputs": [
        {
          "output_type": "stream",
          "name": "stdout",
          "text": [
            "Welcome, Mateenah!\n"
          ]
        }
      ]
    },
    {
      "cell_type": "code",
      "source": [
        "def square(num):\n",
        "    return num ** 2\n",
        "\n",
        "print(\"Square of 7 is:\", square(7))\n"
      ],
      "metadata": {
        "colab": {
          "base_uri": "https://localhost:8080/"
        },
        "id": "wYpZKT0CokIu",
        "outputId": "68726aaa-bf00-48e5-9fa1-37641006da0f"
      },
      "execution_count": 56,
      "outputs": [
        {
          "output_type": "stream",
          "name": "stdout",
          "text": [
            "Square of 7 is: 49\n"
          ]
        }
      ]
    },
    {
      "cell_type": "code",
      "source": [
        "def greet(name=\"Guest\"):\n",
        "    return f\"Hello, {name}!\"\n",
        "\n",
        "print(greet(\"Mateenah\"))\n",
        "print(greet())"
      ],
      "metadata": {
        "colab": {
          "base_uri": "https://localhost:8080/"
        },
        "id": "Ox56N9APon_2",
        "outputId": "9d4bcad3-9f1e-47ef-bffa-5f3e5d60d21b"
      },
      "execution_count": 57,
      "outputs": [
        {
          "output_type": "stream",
          "name": "stdout",
          "text": [
            "Hello, Mateenah!\n",
            "Hello, Guest!\n"
          ]
        }
      ]
    },
    {
      "cell_type": "code",
      "source": [
        "def factorial(n):\n",
        "    result = 1\n",
        "    for i in range(1, n + 1):\n",
        "        result *= i\n",
        "    return result\n",
        "\n",
        "print(\"Factorial of 5:\", factorial(5))\n"
      ],
      "metadata": {
        "colab": {
          "base_uri": "https://localhost:8080/"
        },
        "id": "MYZv1gr7ovtF",
        "outputId": "3e9f4ebf-18c5-4344-c187-4d65068cb815"
      },
      "execution_count": 58,
      "outputs": [
        {
          "output_type": "stream",
          "name": "stdout",
          "text": [
            "Factorial of 5: 120\n"
          ]
        }
      ]
    },
    {
      "cell_type": "code",
      "source": [
        "def reverse_string(text):\n",
        "    return text[::-1]\n",
        "\n",
        "print(\"Reverse of 'hello':\", reverse_string(\"hello\"))\n"
      ],
      "metadata": {
        "colab": {
          "base_uri": "https://localhost:8080/"
        },
        "id": "ZJOh9SYiozt2",
        "outputId": "ff4c23d6-2265-4379-ae9b-d2a9bf98dba0"
      },
      "execution_count": 59,
      "outputs": [
        {
          "output_type": "stream",
          "name": "stdout",
          "text": [
            "Reverse of 'hello': olleh\n"
          ]
        }
      ]
    },
    {
      "cell_type": "code",
      "source": [
        "def get_city_and_coordinates(weather_data):\n",
        "    city = weather_data[\"name\"]\n",
        "    lat = weather_data[\"coord\"][\"lat\"]\n",
        "    lon = weather_data[\"coord\"][\"lon\"]\n",
        "    return f\"City: {city}, Latitude: {lat}, Longitude: {lon}\"\n",
        "\n",
        "\n",
        "print(get_city_and_coordinates({\n",
        "    \"coord\": {\"lon\": 74.8, \"lat\": 34.1},\n",
        "    \"name\": \"Srinagar\"\n",
        "}))\n"
      ],
      "metadata": {
        "colab": {
          "base_uri": "https://localhost:8080/"
        },
        "id": "xiN7WUqio3nE",
        "outputId": "c7632573-0b5d-4d8b-bcb1-545c1e0248c4"
      },
      "execution_count": 60,
      "outputs": [
        {
          "output_type": "stream",
          "name": "stdout",
          "text": [
            "City: Srinagar, Latitude: 34.1, Longitude: 74.8\n"
          ]
        }
      ]
    },
    {
      "cell_type": "code",
      "source": [
        "def get_product_names(inventory):\n",
        "    return [product[\"name\"] for product in inventory[\"products\"]]\n",
        "\n",
        "\n",
        "print(get_product_names({\n",
        "    \"products\": [\n",
        "        {\"id\": 1, \"name\": \"Laptop\", \"price\": 45000},\n",
        "        {\"id\": 2, \"name\": \"Mouse\", \"price\": 500},\n",
        "        {\"id\": 3, \"name\": \"Monitor\", \"price\": 10000}\n",
        "    ]\n",
        "}))\n"
      ],
      "metadata": {
        "colab": {
          "base_uri": "https://localhost:8080/"
        },
        "id": "8cqfIpoCpMsR",
        "outputId": "d6f3ba95-adbf-4382-b052-489036508c05"
      },
      "execution_count": 61,
      "outputs": [
        {
          "output_type": "stream",
          "name": "stdout",
          "text": [
            "['Laptop', 'Mouse', 'Monitor']\n"
          ]
        }
      ]
    },
    {
      "cell_type": "code",
      "source": [
        "\n",
        "\n",
        "def update_city(student, new_city):\n",
        "    student[\"city\"] = new_city\n",
        "    return student\n",
        "\n",
        "print(update_city({\"name\": \"Mateenah\", \"city\": \"Kupwara\"}, \"Srinagar\"))\n"
      ],
      "metadata": {
        "colab": {
          "base_uri": "https://localhost:8080/"
        },
        "id": "xPu0MmrxpmEM",
        "outputId": "ee2783ef-ff49-4ce3-871c-6e505c21ecef"
      },
      "execution_count": 62,
      "outputs": [
        {
          "output_type": "stream",
          "name": "stdout",
          "text": [
            "{'name': 'Mateenah', 'city': 'Srinagar'}\n"
          ]
        }
      ]
    },
    {
      "cell_type": "code",
      "source": [
        "\n",
        "\n",
        "def delete_age(student):\n",
        "    if \"age\" in student:\n",
        "        del student[\"age\"]\n",
        "    return student\n",
        "\n",
        "\n",
        "print(delete_age({\"name\": \"Mateenah\", \"age\": 28}))\n"
      ],
      "metadata": {
        "colab": {
          "base_uri": "https://localhost:8080/"
        },
        "id": "Dy7jZwrxpp4-",
        "outputId": "a79090e9-483a-404d-bc14-b96bfc5e5cb8"
      },
      "execution_count": 63,
      "outputs": [
        {
          "output_type": "stream",
          "name": "stdout",
          "text": [
            "{'name': 'Mateenah'}\n"
          ]
        }
      ]
    },
    {
      "cell_type": "code",
      "source": [
        "\n",
        "\n",
        "def pop_key(data, key):\n",
        "    value = data.pop(key, \"Key not found\")\n",
        "    return value, data\n",
        "\n",
        "\n",
        "value, updated = pop_key({\"a\": 1, \"b\": 2}, \"a\")\n",
        "print(\"Popped:\", value)\n",
        "print(\"Updated dict:\", updated)\n"
      ],
      "metadata": {
        "colab": {
          "base_uri": "https://localhost:8080/"
        },
        "id": "Z2n0f6nSpui6",
        "outputId": "e0ef58ad-3e7c-4121-a7ec-3e1e71296c00"
      },
      "execution_count": 65,
      "outputs": [
        {
          "output_type": "stream",
          "name": "stdout",
          "text": [
            "Popped: 1\n",
            "Updated dict: {'b': 2}\n"
          ]
        }
      ]
    },
    {
      "cell_type": "code",
      "source": [
        "def remove_item(my_list, item):\n",
        "    if item in my_list:\n",
        "        my_list.remove(item)\n",
        "    return my_list\n",
        "\n",
        "\n",
        "print(remove_item([\"apple\", \"banana\", \"mango\"], \"banana\"))\n"
      ],
      "metadata": {
        "colab": {
          "base_uri": "https://localhost:8080/"
        },
        "id": "M6roQvTspzUG",
        "outputId": "996f03ad-75ce-4b9e-8277-bb9fda623896"
      },
      "execution_count": 66,
      "outputs": [
        {
          "output_type": "stream",
          "name": "stdout",
          "text": [
            "['apple', 'mango']\n"
          ]
        }
      ]
    },
    {
      "cell_type": "code",
      "source": [
        "def square(x):\n",
        "    return x ** 2\n",
        "\n",
        "\n",
        "square_lambda = lambda x: x ** 2\n",
        "\n",
        "print(\"Square:\", square_lambda(5))\n"
      ],
      "metadata": {
        "colab": {
          "base_uri": "https://localhost:8080/"
        },
        "id": "E4NpL5drqqeV",
        "outputId": "3535d998-8d27-43bd-dded-57f7fafcad8d"
      },
      "execution_count": 68,
      "outputs": [
        {
          "output_type": "stream",
          "name": "stdout",
          "text": [
            "Square: 25\n"
          ]
        }
      ]
    },
    {
      "cell_type": "code",
      "source": [
        "def add(a, b):\n",
        "    return a + b\n",
        "\n",
        "print(add(5, 3))\n"
      ],
      "metadata": {
        "colab": {
          "base_uri": "https://localhost:8080/"
        },
        "id": "tA67nEVMqueA",
        "outputId": "58414bd9-4209-462e-dd50-608d08619a4e"
      },
      "execution_count": 69,
      "outputs": [
        {
          "output_type": "stream",
          "name": "stdout",
          "text": [
            "8\n"
          ]
        }
      ]
    },
    {
      "cell_type": "code",
      "source": [
        "print(add(b=3, a=5))"
      ],
      "metadata": {
        "colab": {
          "base_uri": "https://localhost:8080/"
        },
        "id": "5BCnlb8Nq3I9",
        "outputId": "8aac3ebf-4226-4b28-936c-6ca5e31167d7"
      },
      "execution_count": 70,
      "outputs": [
        {
          "output_type": "stream",
          "name": "stdout",
          "text": [
            "8\n"
          ]
        }
      ]
    },
    {
      "cell_type": "code",
      "source": [
        "def greet(name=\"Guest\"):\n",
        "    return f\"Hello, {name}!\"\n",
        "\n",
        "print(greet())\n",
        "print(greet(\"Zara\"))\n"
      ],
      "metadata": {
        "colab": {
          "base_uri": "https://localhost:8080/"
        },
        "id": "VApmdzKfq6w-",
        "outputId": "dc7a1ef6-7b5e-46a9-d29d-1b5061d94f81"
      },
      "execution_count": 71,
      "outputs": [
        {
          "output_type": "stream",
          "name": "stdout",
          "text": [
            "Hello, Guest!\n",
            "Hello, Zara!\n"
          ]
        }
      ]
    },
    {
      "cell_type": "code",
      "source": [
        "def multiply(x, y):\n",
        "    return x * y\n",
        "\n",
        "result = multiply(4, 5)\n",
        "print(\"Product:\", result)\n"
      ],
      "metadata": {
        "colab": {
          "base_uri": "https://localhost:8080/"
        },
        "id": "Ws4I-5PprAuv",
        "outputId": "e5432a78-5edf-4f74-b4cb-0790a329854d"
      },
      "execution_count": 72,
      "outputs": [
        {
          "output_type": "stream",
          "name": "stdout",
          "text": [
            "Product: 20\n"
          ]
        }
      ]
    },
    {
      "cell_type": "code",
      "source": [
        "x = 10  #this is global\n",
        "\n",
        "def change():\n",
        "    x = 5  # this is local\n",
        "    print(\"Inside:\", x)\n",
        "\n",
        "change()\n",
        "print(\"Outside:\", x)\n"
      ],
      "metadata": {
        "colab": {
          "base_uri": "https://localhost:8080/"
        },
        "id": "AHtznDTYrDVz",
        "outputId": "ca8ba2bf-f01b-4924-cdb0-b49418037b36"
      },
      "execution_count": 73,
      "outputs": [
        {
          "output_type": "stream",
          "name": "stdout",
          "text": [
            "Inside: 5\n",
            "Outside: 10\n"
          ]
        }
      ]
    },
    {
      "cell_type": "code",
      "source": [
        "def subtract(a, b):\n",
        "    \"\"\"\n",
        "    Returns the result of a - b.\n",
        "    Parameters:\n",
        "        a (int/float)\n",
        "        b (int/float)\n",
        "    \"\"\"\n",
        "    return a - b\n",
        "\n",
        "help(subtract)\n"
      ],
      "metadata": {
        "colab": {
          "base_uri": "https://localhost:8080/"
        },
        "id": "eRqoT14ErL5l",
        "outputId": "9afc4853-aa13-494e-dadf-edad2fc8d6bd"
      },
      "execution_count": 74,
      "outputs": [
        {
          "output_type": "stream",
          "name": "stdout",
          "text": [
            "Help on function subtract in module __main__:\n",
            "\n",
            "subtract(a, b)\n",
            "    Returns the result of a - b.\n",
            "    Parameters:\n",
            "        a (int/float)\n",
            "        b (int/float)\n",
            "\n"
          ]
        }
      ]
    },
    {
      "cell_type": "code",
      "source": [
        "def calculate_area(length, width):\n",
        "    \"\"\"Returns area of a rectangle.\"\"\"\n",
        "    return length * width\n",
        "\n",
        "\n",
        "print(\"Room 1 area:\", calculate_area(5, 4))\n",
        "print(\"Room 2 area:\", calculate_area(6, 3))\n"
      ],
      "metadata": {
        "colab": {
          "base_uri": "https://localhost:8080/"
        },
        "id": "D38K5sInrQot",
        "outputId": "1b88209d-1f20-43d5-b061-bebcba36b9ec"
      },
      "execution_count": 75,
      "outputs": [
        {
          "output_type": "stream",
          "name": "stdout",
          "text": [
            "Room 1 area: 20\n",
            "Room 2 area: 18\n"
          ]
        }
      ]
    },
    {
      "cell_type": "code",
      "source": [
        "def get_first_n_items(my_list, n):\n",
        "    return my_list[:n]\n",
        "\n",
        "\n",
        "print(get_first_n_items([10, 20, 30, 40, 50], 3))\n"
      ],
      "metadata": {
        "colab": {
          "base_uri": "https://localhost:8080/"
        },
        "id": "m2l0jZ5Zp3B2",
        "outputId": "a46427dd-8798-472c-8fdb-e07c3a78c9da"
      },
      "execution_count": 67,
      "outputs": [
        {
          "output_type": "stream",
          "name": "stdout",
          "text": [
            "[10, 20, 30]\n"
          ]
        }
      ]
    }
  ]
}