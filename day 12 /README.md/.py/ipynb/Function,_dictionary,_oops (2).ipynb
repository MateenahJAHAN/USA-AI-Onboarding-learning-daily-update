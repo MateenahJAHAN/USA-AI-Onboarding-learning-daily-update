{
  "nbformat": 4,
  "nbformat_minor": 0,
  "metadata": {
    "colab": {
      "provenance": []
    },
    "kernelspec": {
      "name": "python3",
      "display_name": "Python 3"
    },
    "language_info": {
      "name": "python"
    }
  },
  "cells": [
    {
      "cell_type": "code",
      "execution_count": 3,
      "metadata": {
        "colab": {
          "base_uri": "https://localhost:8080/"
        },
        "id": "-M6_I-KHT5RI",
        "outputId": "791c2858-0018-4eb4-d976-c0b54671381a"
      },
      "outputs": [
        {
          "output_type": "stream",
          "name": "stdout",
          "text": [
            "1: Ali\n"
          ]
        }
      ],
      "source": [
        "# 1. Student Marks: Top student\n",
        "students = {\"Matina\": 85, \"Ali\": 92, \"Charlie\": 78}\n",
        "top_student = max(students, key=students.get)\n",
        "print(\"1:\", top_student)"
      ]
    },
    {
      "cell_type": "code",
      "source": [
        "# 2. Student Marks: Average marks\n",
        "avg_marks = sum(students.values()) / len(students)\n",
        "print(\"2:\", avg_marks)"
      ],
      "metadata": {
        "colab": {
          "base_uri": "https://localhost:8080/"
        },
        "id": "LS61dl9rU-Q1",
        "outputId": "87b9b151-6dae-43c3-b8fe-791bf1ef27ee"
      },
      "execution_count": 4,
      "outputs": [
        {
          "output_type": "stream",
          "name": "stdout",
          "text": [
            "2: 85.0\n"
          ]
        }
      ]
    },
    {
      "cell_type": "code",
      "source": [
        "# 3. Word Frequency\n",
        "text = \"this is a test this is only a test\"\n",
        "freq = {}\n",
        "for w in text.split():\n",
        "    freq[w] = freq.get(w, 0) + 1\n",
        "print(\"3:\", freq)\n"
      ],
      "metadata": {
        "colab": {
          "base_uri": "https://localhost:8080/"
        },
        "id": "mkKxxtdJVEwe",
        "outputId": "45198a58-1356-474e-f820-95c94031185c"
      },
      "execution_count": 5,
      "outputs": [
        {
          "output_type": "stream",
          "name": "stdout",
          "text": [
            "3: {'this': 2, 'is': 2, 'a': 2, 'test': 2, 'only': 1}\n"
          ]
        }
      ]
    },
    {
      "cell_type": "code",
      "source": [
        "# 4. Merge Dicts with Sum\n",
        "d1 = {'a': 100, 'b': 200}\n",
        "d2 = {'b': 300, 'c': 400}\n",
        "merged = {}\n",
        "for k in set(d1) | set(d2):\n",
        "    merged[k] = d1.get(k, 0) + d2.get(k, 0)\n",
        "print(\"4:\", merged)"
      ],
      "metadata": {
        "colab": {
          "base_uri": "https://localhost:8080/"
        },
        "id": "s9Jh5w-0VIK-",
        "outputId": "f64604a7-21ed-4d16-cb81-4bac29ddf9bc"
      },
      "execution_count": 6,
      "outputs": [
        {
          "output_type": "stream",
          "name": "stdout",
          "text": [
            "4: {'a': 100, 'b': 500, 'c': 400}\n"
          ]
        }
      ]
    },
    {
      "cell_type": "code",
      "source": [
        "# 5. Nested Dict Access\n",
        "data = {'alice': {'age':25,'city':'Delhi'}, 'bob':{'age':30,'city':'Mumbai'}}\n",
        "print(\"5:\", data['bob']['city'])\n"
      ],
      "metadata": {
        "colab": {
          "base_uri": "https://localhost:8080/"
        },
        "id": "87P-w8mVVL0S",
        "outputId": "414f84e9-ddea-4c12-ffd8-a803b6614b3a"
      },
      "execution_count": 7,
      "outputs": [
        {
          "output_type": "stream",
          "name": "stdout",
          "text": [
            "5: Mumbai\n"
          ]
        }
      ]
    },
    {
      "cell_type": "code",
      "source": [
        "# 6. Total Ages\n",
        "total_age = sum(person['age'] for person in data.values())\n",
        "print(\"6:\", total_age)"
      ],
      "metadata": {
        "colab": {
          "base_uri": "https://localhost:8080/"
        },
        "id": "-SkJ9dChVO47",
        "outputId": "a5f6aaa1-99de-40e1-f6ee-889df2223043"
      },
      "execution_count": 8,
      "outputs": [
        {
          "output_type": "stream",
          "name": "stdout",
          "text": [
            "6: 55\n"
          ]
        }
      ]
    },
    {
      "cell_type": "code",
      "source": [
        "# 7. Dict Comprehension: squares\n",
        "nums = [1,2,3,4]\n",
        "squares = {n: n*n for n in nums}\n",
        "print(\"7:\", squares)\n"
      ],
      "metadata": {
        "colab": {
          "base_uri": "https://localhost:8080/"
        },
        "id": "PV5VIS05VR_H",
        "outputId": "78b0ed30-d906-4196-e2fb-41dc3139b7ff"
      },
      "execution_count": 9,
      "outputs": [
        {
          "output_type": "stream",
          "name": "stdout",
          "text": [
            "7: {1: 1, 2: 4, 3: 9, 4: 16}\n"
          ]
        }
      ]
    },
    {
      "cell_type": "code",
      "source": [
        "# 8. Invert Dictionary\n",
        "orig = {'x':1, 'y':2, 'z':3}\n",
        "inverted = {v:k for k,v in orig.items()}\n",
        "print(\"8:\", inverted)\n"
      ],
      "metadata": {
        "colab": {
          "base_uri": "https://localhost:8080/"
        },
        "id": "8zGJ0ixgVUw-",
        "outputId": "3435ea08-9da8-4a50-e4cf-69bb5b765477"
      },
      "execution_count": 10,
      "outputs": [
        {
          "output_type": "stream",
          "name": "stdout",
          "text": [
            "8: {1: 'x', 2: 'y', 3: 'z'}\n"
          ]
        }
      ]
    },
    {
      "cell_type": "code",
      "source": [
        "# Given a dict word:str→count:int and integer n, write top_n(freq_dict,n) returning the n most frequent words.\n",
        "# If n > number of unique words, return all words sorted by frequency descending.\n",
        "\n",
        "def top_n(freq_dict, n):\n",
        "    # Sort items by count descending, then take top n keys\n",
        "    sorted_items = sorted(freq_dict.items(), key=lambda kv: kv[1], reverse=True)\n",
        "    return [word for word, _ in sorted_items[:n]]\n",
        "\n",
        "# Example:\n",
        "print(top_n({\"a\":5,\"b\":2,\"c\":8,\"d\":3}, 2))\n"
      ],
      "metadata": {
        "colab": {
          "base_uri": "https://localhost:8080/"
        },
        "id": "5ZH152o0VYXN",
        "outputId": "3049dabf-f7be-45a6-b6b1-148978f4f728"
      },
      "execution_count": 30,
      "outputs": [
        {
          "output_type": "stream",
          "name": "stdout",
          "text": [
            "['c', 'a']\n"
          ]
        }
      ]
    },
    {
      "cell_type": "code",
      "source": [
        "# Given a list of dicts with 'name':str and 'age':int, write filter_sort(people, min_age) to return names ≥ min_age sorted alphabetically.\n",
        "# Maintain original list unmodified.\n",
        "\n",
        "def filter_sort(people, min_age):\n",
        "    filtered = [p[\"name\"] for p in people if p.get(\"age\",0) >= min_age]\n",
        "    return sorted(filtered)\n",
        "\n",
        "# Example:\n",
        "data = [{\"name\":\"Ali\",\"age\":30}, {\"name\":\"Zara\",\"age\":25}, {\"name\":\"Bilal\",\"age\":35}]\n",
        "print(filter_sort(data, 30))\n"
      ],
      "metadata": {
        "colab": {
          "base_uri": "https://localhost:8080/"
        },
        "id": "qfiSWEvSXWrT",
        "outputId": "2c31b9d4-208d-471d-9537-f96f2b9fde7a"
      },
      "execution_count": 31,
      "outputs": [
        {
          "output_type": "stream",
          "name": "stdout",
          "text": [
            "['Ali', 'Bilal']\n"
          ]
        }
      ]
    },
    {
      "cell_type": "code",
      "source": [
        "# Implement a Stack class with push(x), pop(), and peek() methods.\n",
        "# pop on empty stack should raise an exception.\n",
        "\n",
        "class Stack:\n",
        "    def __init__(self): self._data=[]\n",
        "    def push(self,x): self._data.append(x)\n",
        "    def pop(self):\n",
        "        if not self._data: raise Exception(\"Empty stack\")\n",
        "        return self._data.pop()\n",
        "    def peek(self):\n",
        "        if not self._data: raise Exception(\"Empty stack\")\n",
        "        return self._data[-1]\n",
        "\n",
        "# Example:\n",
        "stk=Stack(); stk.push(1); print(stk.pop())\n"
      ],
      "metadata": {
        "colab": {
          "base_uri": "https://localhost:8080/"
        },
        "id": "ITTQS8cojfpa",
        "outputId": "f484170b-7524-4ed0-b2cf-eb6faf202569"
      },
      "execution_count": 32,
      "outputs": [
        {
          "output_type": "stream",
          "name": "stdout",
          "text": [
            "1\n"
          ]
        }
      ]
    },
    {
      "cell_type": "code",
      "source": [
        "# Given a dictionary mapping student names to their marks, write a function that returns a sorted list of names who scored 50 or above.\n",
        "# Ensure the original dictionary remains unmodified and handle the case where no student passes.\n",
        "\n",
        "def passed_students(marks_dict):\n",
        "    \"\"\"\n",
        "    marks_dict: dict of student:str → mark:int\n",
        "    returns: sorted list of student names with mark >= 50\n",
        "    \"\"\"\n",
        "    passed = [name for name, mark in marks_dict.items() if mark >= 50]\n",
        "    return sorted(passed)\n",
        "\n",
        "\n",
        "students = {\"Aisha\": 82, \"Bilal\": 47, \"Carla\": 59, \"Danish\": 50}\n",
        "print(passed_students(students))  # Output: ['Aisha', 'Carla', 'Danish']\n"
      ],
      "metadata": {
        "colab": {
          "base_uri": "https://localhost:8080/"
        },
        "id": "1dt9FbObV6yx",
        "outputId": "6be3c7cd-296f-4dea-9741-0ac56e31f235"
      },
      "execution_count": 11,
      "outputs": [
        {
          "output_type": "stream",
          "name": "stdout",
          "text": [
            "['Aisha', 'Carla', 'Danish']\n"
          ]
        }
      ]
    },
    {
      "cell_type": "code",
      "source": [
        "# Given a dict of student:str→mark:int, return a sorted list of names with mark ≥ 50.\n",
        "# Original dict must not be modified; return an empty list if none pass.\n",
        "\n",
        "def passed_students(marks_dict):\n",
        "    passed = [name for name, mark in marks_dict.items() if mark >= 50]\n",
        "    return sorted(passed)\n",
        "\n",
        "\n",
        "print(passed_students({\"Aisha\":82,\"Bilal\":47,\"Carla\":59,\"Danish\":50}))\n",
        "\n"
      ],
      "metadata": {
        "colab": {
          "base_uri": "https://localhost:8080/"
        },
        "id": "erOZZn0DV-ep",
        "outputId": "2bee038d-6b9e-4cde-ccbd-f985ce9f207c"
      },
      "execution_count": 12,
      "outputs": [
        {
          "output_type": "stream",
          "name": "stdout",
          "text": [
            "['Aisha', 'Carla', 'Danish']\n"
          ]
        }
      ]
    },
    {
      "cell_type": "code",
      "source": [
        "# Merge two dicts item:str→qty:int by summing quantities for shared keys.\n",
        "# Return a new dict; do not modify the inputs.\n",
        "\n",
        "def merge_inventories(inv1, inv2):\n",
        "    merged = {}\n",
        "    for d in (inv1, inv2):\n",
        "        for k, v in d.items():\n",
        "            merged[k] = merged.get(k, 0) + v\n",
        "    return merged\n",
        "\n",
        "# Example:\n",
        "print(merge_inventories({\"apple\":5,\"banana\":2},{\"banana\":3,\"orange\":4}))\n",
        "\n"
      ],
      "metadata": {
        "colab": {
          "base_uri": "https://localhost:8080/"
        },
        "id": "d_V5mVXJWOGq",
        "outputId": "b2a8046d-cae2-483b-8e04-d41b46983cd6"
      },
      "execution_count": 14,
      "outputs": [
        {
          "output_type": "stream",
          "name": "stdout",
          "text": [
            "{'apple': 5, 'banana': 5, 'orange': 4}\n"
          ]
        }
      ]
    },
    {
      "cell_type": "code",
      "source": [
        "# From a dict item:str→qty:int, return a list of items that have qty == 0.\n",
        "# Preserve insertion order as in the original dict.\n",
        "\n",
        "def out_of_stock(inventory):\n",
        "    return [k for k, v in inventory.items() if v == 0]\n",
        "\n",
        "# Example:\n",
        "print(out_of_stock({\"apple\":0,\"banana\":3,\"cherry\":0}))\n",
        "\n"
      ],
      "metadata": {
        "colab": {
          "base_uri": "https://localhost:8080/"
        },
        "id": "3bC1B0oLWRG4",
        "outputId": "47a21b41-79e3-4235-a14f-4c78457e8cf8"
      },
      "execution_count": 15,
      "outputs": [
        {
          "output_type": "stream",
          "name": "stdout",
          "text": [
            "['apple', 'cherry']\n"
          ]
        }
      ]
    },
    {
      "cell_type": "code",
      "source": [
        "# Given a dict of subject:str→score:int, compute the average score as float.\n",
        "# If dict is empty, return 0.0.\n",
        "\n",
        "def average_score(scores):\n",
        "    total = sum(scores.values())\n",
        "    return total / len(scores) if scores else 0.0\n",
        "\n",
        "# Example:\n",
        "print(average_score({\"Math\":80,\"Eng\":90}))\n",
        "\n"
      ],
      "metadata": {
        "colab": {
          "base_uri": "https://localhost:8080/"
        },
        "id": "Tapy_98sWVKx",
        "outputId": "83c93732-607a-4419-cb47-055071ab524a"
      },
      "execution_count": 17,
      "outputs": [
        {
          "output_type": "stream",
          "name": "stdout",
          "text": [
            "85.0\n"
          ]
        }
      ]
    },
    {
      "cell_type": "code",
      "source": [
        "# Count word frequencies in a string; return dict word:str→count:int.\n",
        "# Treat words as separated by whitespace.\n",
        "\n",
        "def word_freq(text):\n",
        "    freqs = {}\n",
        "    for w in text.split():\n",
        "        freqs[w] = freqs.get(w, 0) + 1\n",
        "    return freqs\n",
        "\n",
        "# Example:\n",
        "print(word_freq(\"hi hi hello\"))\n",
        "\n"
      ],
      "metadata": {
        "colab": {
          "base_uri": "https://localhost:8080/"
        },
        "id": "_kCAMnNOWa2E",
        "outputId": "cfeeb65a-de30-45cb-f918-3753c539e155"
      },
      "execution_count": 19,
      "outputs": [
        {
          "output_type": "stream",
          "name": "stdout",
          "text": [
            "{'hi': 2, 'hello': 1}\n"
          ]
        }
      ]
    },
    {
      "cell_type": "code",
      "source": [
        "# Invert a dict key→value so that you get value→list of keys.\n",
        "# Work even if values repeat.\n",
        "\n",
        "def invert_dict(d):\n",
        "    inv = {}\n",
        "    for k, v in d.items():\n",
        "        inv.setdefault(v, []).append(k)\n",
        "    return inv\n",
        "\n",
        "# Example:\n",
        "print(invert_dict({\"a\":1,\"b\":2,\"c\":1}))\n",
        "\n"
      ],
      "metadata": {
        "colab": {
          "base_uri": "https://localhost:8080/"
        },
        "id": "mJc3lqgdWeoy",
        "outputId": "e4c71f6a-01b1-41eb-96ad-82507342c05f"
      },
      "execution_count": 20,
      "outputs": [
        {
          "output_type": "stream",
          "name": "stdout",
          "text": [
            "{1: ['a', 'c'], 2: ['b']}\n"
          ]
        }
      ]
    },
    {
      "cell_type": "code",
      "source": [
        "# Remove a given list of keys from a dict and return a new dict.\n",
        "# Do not modify the original dict.\n",
        "\n",
        "def remove_keys(d, keys_to_remove):\n",
        "    return {k:v for k,v in d.items() if k not in keys_to_remove}\n",
        "\n",
        "# Example:\n",
        "print(remove_keys({\"a\":1,\"b\":2,\"c\":3},[\"b\",\"x\"]))\n",
        "\n"
      ],
      "metadata": {
        "colab": {
          "base_uri": "https://localhost:8080/"
        },
        "id": "dZNl7t-zWiOu",
        "outputId": "269a88a1-806c-4100-a365-eab6cdf55bf2"
      },
      "execution_count": 21,
      "outputs": [
        {
          "output_type": "stream",
          "name": "stdout",
          "text": [
            "{'a': 1, 'c': 3}\n"
          ]
        }
      ]
    },
    {
      "cell_type": "code",
      "source": [
        "# Safely get nested dict value for keys [k1,k2,...]; return default if any key missing.\n",
        "# Do not raise KeyError.\n",
        "\n",
        "def nested_get(d, keys, default=None):\n",
        "    curr = d\n",
        "    for k in keys:\n",
        "        if not isinstance(curr, dict) or k not in curr:\n",
        "            return default\n",
        "        curr = curr[k]\n",
        "    return curr\n",
        "\n",
        "# Example:\n",
        "print(nested_get({\"a\":{\"b\":2}} ,[\"a\",\"b\"],0))\n",
        "\n",
        "print(nested_get({\"a\":{}},[\"a\",\"x\"],\"na\"))\n"
      ],
      "metadata": {
        "colab": {
          "base_uri": "https://localhost:8080/"
        },
        "id": "QCNaKnt2WoPH",
        "outputId": "32ab1026-bbee-4adb-b140-6c13fb46679a"
      },
      "execution_count": 22,
      "outputs": [
        {
          "output_type": "stream",
          "name": "stdout",
          "text": [
            "2\n",
            "na\n"
          ]
        }
      ]
    },
    {
      "cell_type": "code",
      "source": [
        "# Convert a dict of params to a URL query string, sorted by key.\n",
        "# e.g. {'b':2,'a':1} → 'a=1&b=2'.\n",
        "\n",
        "def dict_to_qs(params):\n",
        "    return \"&\".join(f\"{k}={params[k]}\" for k in sorted(params))\n",
        "\n",
        "# Example:\n",
        "print(dict_to_qs({\"b\":2,\"a\":1}))\n",
        "\n"
      ],
      "metadata": {
        "colab": {
          "base_uri": "https://localhost:8080/"
        },
        "id": "qGM4hmI5Wu5L",
        "outputId": "f47149a8-708c-4310-824f-14cced7ed08c"
      },
      "execution_count": 23,
      "outputs": [
        {
          "output_type": "stream",
          "name": "stdout",
          "text": [
            "a=1&b=2\n"
          ]
        }
      ]
    },
    {
      "cell_type": "code",
      "source": [
        "# Group a list of dicts by a given key; return dict key_val→list of dicts.\n",
        "# Skip entries missing that key.\n",
        "\n",
        "def group_by(items, key):\n",
        "    groups = {}\n",
        "    for item in items:\n",
        "        if key in item:\n",
        "            groups.setdefault(item[key], []).append(item)\n",
        "    return groups\n",
        "\n",
        "# Example:\n",
        "data = [{\"type\":\"A\",\"v\":1},{\"type\":\"B\",\"v\":2},{\"type\":\"A\",\"v\":3}]\n",
        "print(group_by(data,\"type\"))\n",
        "\n"
      ],
      "metadata": {
        "colab": {
          "base_uri": "https://localhost:8080/"
        },
        "id": "g3dVD26dWzNv",
        "outputId": "7ac85c0a-1144-4f56-b0f6-238b5b22fb70"
      },
      "execution_count": 24,
      "outputs": [
        {
          "output_type": "stream",
          "name": "stdout",
          "text": [
            "{'A': [{'type': 'A', 'v': 1}, {'type': 'A', 'v': 3}], 'B': [{'type': 'B', 'v': 2}]}\n"
          ]
        }
      ]
    },
    {
      "cell_type": "code",
      "source": [
        "# Write a decorator @cache that caches function calls by args→result.\n",
        "# Subsequent calls with same args should return cached result.\n",
        "\n",
        "from functools import wraps\n",
        "\n",
        "def cache(func):\n",
        "    memo = {}\n",
        "    @wraps(func)\n",
        "    def wrapper(*args):\n",
        "        if args not in memo:\n",
        "            memo[args] = func(*args)\n",
        "        return memo[args]\n",
        "    return wrapper\n",
        "\n",
        "@cache\n",
        "def fib(n):\n",
        "    return n if n < 2 else fib(n-1)+fib(n-2)\n",
        "\n",
        "# Example:\n",
        "print(fib(10))\n"
      ],
      "metadata": {
        "colab": {
          "base_uri": "https://localhost:8080/"
        },
        "id": "Tz5JWHg7W3CR",
        "outputId": "e3e80854-9810-4fba-ba55-c38f19592547"
      },
      "execution_count": 25,
      "outputs": [
        {
          "output_type": "stream",
          "name": "stdout",
          "text": [
            "55\n"
          ]
        }
      ]
    },
    {
      "cell_type": "code",
      "source": [
        "# Given a dict of users:user_id→dict with 'active':bool, return list of active user_ids.\n",
        "# Use a function for the filter.\n",
        "\n",
        "def active_users(users):\n",
        "    return [uid for uid, info in users.items() if info.get(\"active\")]\n",
        "\n",
        "# Example:\n",
        "print(active_users({1:{\"active\":True},2:{\"active\":False}}))\n",
        "\n"
      ],
      "metadata": {
        "colab": {
          "base_uri": "https://localhost:8080/"
        },
        "id": "nV7M9DxzW6_I",
        "outputId": "ddc8b656-c548-4977-9f3f-eb34886dd104"
      },
      "execution_count": 26,
      "outputs": [
        {
          "output_type": "stream",
          "name": "stdout",
          "text": [
            "[1]\n"
          ]
        }
      ]
    },
    {
      "cell_type": "code",
      "source": [
        "# From a dict customer:str→orders:list[int], return dict customer→total orders count.\n",
        "# Use a function to compute totals.\n",
        "\n",
        "def orders_count(data):\n",
        "    return {c: len(o) for c,o in data.items()}\n",
        "\n",
        "# Example:\n",
        "print(orders_count({\"C1\":[1,2],\"C2\":[]}))\n",
        "\n"
      ],
      "metadata": {
        "colab": {
          "base_uri": "https://localhost:8080/"
        },
        "id": "Ft0TmrHyW-Np",
        "outputId": "07452a9b-8485-412f-e9c6-6659e95aed0c"
      },
      "execution_count": 27,
      "outputs": [
        {
          "output_type": "stream",
          "name": "stdout",
          "text": [
            "{'C1': 2, 'C2': 0}\n"
          ]
        }
      ]
    },
    {
      "cell_type": "code",
      "source": [
        "# Given two dicts a and b, return dict of items only in a, not in b.\n",
        "# Keys difference.\n",
        "\n",
        "def dict_diff(a, b):\n",
        "    return {k:a[k] for k in a if k not in b}\n",
        "\n",
        "# Example:\n",
        "print(dict_diff({\"x\":1,\"y\":2},{\"y\":0}))\n",
        "\n"
      ],
      "metadata": {
        "colab": {
          "base_uri": "https://localhost:8080/"
        },
        "id": "2d1OejjFXDVR",
        "outputId": "fb9e713a-2815-4163-9463-582804fba049"
      },
      "execution_count": 28,
      "outputs": [
        {
          "output_type": "stream",
          "name": "stdout",
          "text": [
            "{'x': 1}\n"
          ]
        }
      ]
    },
    {
      "cell_type": "code",
      "source": [
        "# Given dict item:str→price:int and budget:int, return list of items affordable ≤ budget.\n",
        "# Preserve sorted order by price ascending.\n",
        "\n",
        "def affordable_items(prices, budget):\n",
        "    return sorted([k for k,v in prices.items() if v <= budget], key=lambda k: prices[k])\n",
        "\n",
        "# Example:\n",
        "print(affordable_items({\"a\":5,\"b\":3,\"c\":7},5))\n",
        "\n"
      ],
      "metadata": {
        "colab": {
          "base_uri": "https://localhost:8080/"
        },
        "id": "Me-cI6R-XHD0",
        "outputId": "45212a9f-d33f-410d-f712-ad7af7b3f1e7"
      },
      "execution_count": 29,
      "outputs": [
        {
          "output_type": "stream",
          "name": "stdout",
          "text": [
            "['b', 'a']\n"
          ]
        }
      ]
    },
    {
      "cell_type": "code",
      "source": [
        "# Example: Book & Member\n",
        "class Book:\n",
        "    def __init__(self, title, author):\n",
        "        self.title = title\n",
        "        self.author = author\n",
        "        self.available = True\n",
        "\n",
        "class Member:\n",
        "    def __init__(self, name):\n",
        "        self.name = name\n",
        "        self.books = []\n",
        "    def checkout(self, book):\n",
        "        if not book.available:\n",
        "            raise Exception(\"Book not available\")\n",
        "        book.available = False\n",
        "        self.books.append(book)"
      ],
      "metadata": {
        "id": "oite8E97XM6C"
      },
      "execution_count": 34,
      "outputs": []
    },
    {
      "cell_type": "code",
      "source": [
        "class Rectangle:\n",
        "    def __init__(self, length, width):\n",
        "        self.length = length\n",
        "        self.width = width\n",
        "\n",
        "    def calculate_area(self):\n",
        "        return self.length * self.width\n",
        "\n",
        "    def calculate_perimeter(self):\n",
        "        return 2 * (self.length + self.width)\n",
        "\n",
        "# Creating an object\n",
        "rect = Rectangle(5, 3)\n",
        "print(f\"Area: {rect.calculate_area()}\")\n",
        "print(f\"Perimeter: {rect.calculate_perimeter()}\")"
      ],
      "metadata": {
        "colab": {
          "base_uri": "https://localhost:8080/"
        },
        "id": "SOoMHE8WlZw1",
        "outputId": "311c1f49-fe3e-4cd9-df34-43500e820f40"
      },
      "execution_count": 35,
      "outputs": [
        {
          "output_type": "stream",
          "name": "stdout",
          "text": [
            "Area: 15\n",
            "Perimeter: 16\n"
          ]
        }
      ]
    },
    {
      "cell_type": "code",
      "source": [
        "#Question: What are the core components of a class in OOP and how are they implemented in the Rectangle example above?\n",
        "class Animal:\n",
        "    def __init__(self, name, species):\n",
        "        self.name = name\n",
        "        self.species = species\n",
        "\n",
        "    def make_sound(self):\n",
        "        pass\n",
        "\n",
        "    def info(self):\n",
        "        return f\"{self.name} is a {self.species}\"\n",
        "\n",
        "class Dog(Animal):\n",
        "    def __init__(self, name, breed):\n",
        "        super().__init__(name, \"Dog\")\n",
        "        self.breed = breed\n",
        "\n",
        "    def make_sound(self):\n",
        "        return \"Woof!\"\n",
        "\n",
        "    def info(self):\n",
        "        return f\"{super().info()} of breed {self.breed}\"\n",
        "\n",
        "\n",
        "my_dog = Dog(\"Rex\", \"German Shepherd\")\n",
        "print(my_dog.info())\n",
        "print(my_dog.make_sound())"
      ],
      "metadata": {
        "colab": {
          "base_uri": "https://localhost:8080/"
        },
        "id": "PG-LXj_2la4t",
        "outputId": "7f9b00a7-e949-415d-d8cd-0586b25ba5df"
      },
      "execution_count": 36,
      "outputs": [
        {
          "output_type": "stream",
          "name": "stdout",
          "text": [
            "Rex is a Dog of breed German Shepherd\n",
            "Woof!\n"
          ]
        }
      ]
    },
    {
      "cell_type": "code",
      "source": [
        "class Animal:\n",
        "    def __init__(self, name):\n",
        "        self.name = name\n",
        "        print(f\"Animal {self.name} was created\")\n",
        "\n",
        "    def make_sound(self):\n",
        "        print(f\"{self.name} makes a generic sound\")\n",
        "\n",
        "class Cat(Animal):\n",
        "    def __init__(self, name, color):\n",
        "        super().__init__(name)\n",
        "        self.color = color\n",
        "        print(f\"{self.name} is a {self.color} cat\")\n",
        "\n",
        "    def make_sound(self):\n",
        "        print(f\"{self.name} says: Meow!\")\n",
        "\n",
        "    def purr(self):\n",
        "        print(f\"{self.name} is purring...\")\n",
        "\n",
        "\n",
        "my_cat = Cat(\"Whiskers\", \"orange\")\n",
        "my_cat.make_sound()\n",
        "my_cat.purr()"
      ],
      "metadata": {
        "colab": {
          "base_uri": "https://localhost:8080/"
        },
        "id": "lV46qp4QmQop",
        "outputId": "7985097a-e6aa-4288-9b36-20519526396f"
      },
      "execution_count": 39,
      "outputs": [
        {
          "output_type": "stream",
          "name": "stdout",
          "text": [
            "Animal Whiskers was created\n",
            "Whiskers is a orange cat\n",
            "Whiskers says: Meow!\n",
            "Whiskers is purring...\n"
          ]
        }
      ]
    }
  ]
}